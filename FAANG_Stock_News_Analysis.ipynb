{
  "nbformat": 4,
  "nbformat_minor": 0,
  "metadata": {
    "colab": {
      "provenance": []
    },
    "kernelspec": {
      "name": "python3",
      "display_name": "Python 3"
    },
    "language_info": {
      "name": "python"
    }
  },
  "cells": [
    {
      "cell_type": "code",
      "execution_count": 1,
      "metadata": {
        "id": "l-WYEqzSA2Ea"
      },
      "outputs": [],
      "source": [
        "import pandas as pd\n",
        "import numpy as np\n",
        "import string\n",
        "import nltk\n",
        "import re\n",
        "from nltk.corpus import stopwords\n",
        "from nltk.stem import WordNetLemmatizer\n",
        "from nltk.tokenize import word_tokenize\n",
        "from sklearn.model_selection import train_test_split\n",
        "from sklearn.linear_model import LogisticRegression\n",
        "from nltk.stem import PorterStemmer\n",
        "from sklearn.ensemble import RandomForestClassifier\n",
        "from sklearn.metrics import accuracy_score,confusion_matrix\n",
        "from sklearn.model_selection import cross_val_score, StratifiedKFold\n",
        "from sklearn.ensemble import RandomForestClassifier\n",
        "from sklearn.metrics import precision_score, recall_score\n",
        "from imblearn.over_sampling import SMOTE\n",
        "from sklearn.ensemble import RandomForestClassifier\n",
        "from sklearn.model_selection import train_test_split\n",
        "from sklearn.metrics import classification_report\n",
        "from sklearn.feature_extraction.text import TfidfVectorizer\n",
        "from nltk.sentiment.vader import SentimentIntensityAnalyzer\n"
      ]
    },
    {
      "cell_type": "code",
      "source": [
        "df=pd.read_csv('FAANG_STOCK_NEWS_Dataset.csv')"
      ],
      "metadata": {
        "id": "hV3ckW0bYYiN"
      },
      "execution_count": 2,
      "outputs": []
    },
    {
      "cell_type": "code",
      "source": [
        "df.head()"
      ],
      "metadata": {
        "colab": {
          "base_uri": "https://localhost:8080/",
          "height": 206
        },
        "id": "90CjoMt9YknL",
        "outputId": "0e60dd15-94b2-41da-95ff-7ec0fb673f4c"
      },
      "execution_count": 3,
      "outputs": [
        {
          "output_type": "execute_result",
          "data": {
            "text/plain": [
              "   Unnamed: 0 ticker        date     time  \\\n",
              "0           0     FB  22-09-2021  06:30AM   \n",
              "1           1     FB  22-09-2021  02:23AM   \n",
              "2           2     FB  22-09-2021  12:36AM   \n",
              "3           3     FB  22-09-2021  12:27AM   \n",
              "4           4     FB  21-09-2021  10:34PM   \n",
              "\n",
              "                                            headline    neg    neu    pos  \\\n",
              "0  2 Growth Stocks to Buy Hand Over Fist If the M...  0.000  0.608  0.392   \n",
              "1  UPDATE 1-Facebook wraps up deals with Australi...  0.167  0.833  0.000   \n",
              "2  Facebook wraps up deals with Australian media ...  0.179  0.821  0.000   \n",
              "3  Facebook wraps up deals with Australia media f...  0.000  1.000  0.000   \n",
              "4  Facebook overpaid FTC fine as quid pro quo to ...  0.099  0.659  0.242   \n",
              "\n",
              "   compound  Unnamed: 9  \n",
              "0    0.7003         NaN  \n",
              "1   -0.3400         NaN  \n",
              "2   -0.3400         NaN  \n",
              "3    0.0000         NaN  \n",
              "4    0.3818         NaN  "
            ],
            "text/html": [
              "\n",
              "  <div id=\"df-e9f0f15a-6de5-46f4-be73-6f8779fa920e\" class=\"colab-df-container\">\n",
              "    <div>\n",
              "<style scoped>\n",
              "    .dataframe tbody tr th:only-of-type {\n",
              "        vertical-align: middle;\n",
              "    }\n",
              "\n",
              "    .dataframe tbody tr th {\n",
              "        vertical-align: top;\n",
              "    }\n",
              "\n",
              "    .dataframe thead th {\n",
              "        text-align: right;\n",
              "    }\n",
              "</style>\n",
              "<table border=\"1\" class=\"dataframe\">\n",
              "  <thead>\n",
              "    <tr style=\"text-align: right;\">\n",
              "      <th></th>\n",
              "      <th>Unnamed: 0</th>\n",
              "      <th>ticker</th>\n",
              "      <th>date</th>\n",
              "      <th>time</th>\n",
              "      <th>headline</th>\n",
              "      <th>neg</th>\n",
              "      <th>neu</th>\n",
              "      <th>pos</th>\n",
              "      <th>compound</th>\n",
              "      <th>Unnamed: 9</th>\n",
              "    </tr>\n",
              "  </thead>\n",
              "  <tbody>\n",
              "    <tr>\n",
              "      <th>0</th>\n",
              "      <td>0</td>\n",
              "      <td>FB</td>\n",
              "      <td>22-09-2021</td>\n",
              "      <td>06:30AM</td>\n",
              "      <td>2 Growth Stocks to Buy Hand Over Fist If the M...</td>\n",
              "      <td>0.000</td>\n",
              "      <td>0.608</td>\n",
              "      <td>0.392</td>\n",
              "      <td>0.7003</td>\n",
              "      <td>NaN</td>\n",
              "    </tr>\n",
              "    <tr>\n",
              "      <th>1</th>\n",
              "      <td>1</td>\n",
              "      <td>FB</td>\n",
              "      <td>22-09-2021</td>\n",
              "      <td>02:23AM</td>\n",
              "      <td>UPDATE 1-Facebook wraps up deals with Australi...</td>\n",
              "      <td>0.167</td>\n",
              "      <td>0.833</td>\n",
              "      <td>0.000</td>\n",
              "      <td>-0.3400</td>\n",
              "      <td>NaN</td>\n",
              "    </tr>\n",
              "    <tr>\n",
              "      <th>2</th>\n",
              "      <td>2</td>\n",
              "      <td>FB</td>\n",
              "      <td>22-09-2021</td>\n",
              "      <td>12:36AM</td>\n",
              "      <td>Facebook wraps up deals with Australian media ...</td>\n",
              "      <td>0.179</td>\n",
              "      <td>0.821</td>\n",
              "      <td>0.000</td>\n",
              "      <td>-0.3400</td>\n",
              "      <td>NaN</td>\n",
              "    </tr>\n",
              "    <tr>\n",
              "      <th>3</th>\n",
              "      <td>3</td>\n",
              "      <td>FB</td>\n",
              "      <td>22-09-2021</td>\n",
              "      <td>12:27AM</td>\n",
              "      <td>Facebook wraps up deals with Australia media f...</td>\n",
              "      <td>0.000</td>\n",
              "      <td>1.000</td>\n",
              "      <td>0.000</td>\n",
              "      <td>0.0000</td>\n",
              "      <td>NaN</td>\n",
              "    </tr>\n",
              "    <tr>\n",
              "      <th>4</th>\n",
              "      <td>4</td>\n",
              "      <td>FB</td>\n",
              "      <td>21-09-2021</td>\n",
              "      <td>10:34PM</td>\n",
              "      <td>Facebook overpaid FTC fine as quid pro quo to ...</td>\n",
              "      <td>0.099</td>\n",
              "      <td>0.659</td>\n",
              "      <td>0.242</td>\n",
              "      <td>0.3818</td>\n",
              "      <td>NaN</td>\n",
              "    </tr>\n",
              "  </tbody>\n",
              "</table>\n",
              "</div>\n",
              "    <div class=\"colab-df-buttons\">\n",
              "\n",
              "  <div class=\"colab-df-container\">\n",
              "    <button class=\"colab-df-convert\" onclick=\"convertToInteractive('df-e9f0f15a-6de5-46f4-be73-6f8779fa920e')\"\n",
              "            title=\"Convert this dataframe to an interactive table.\"\n",
              "            style=\"display:none;\">\n",
              "\n",
              "  <svg xmlns=\"http://www.w3.org/2000/svg\" height=\"24px\" viewBox=\"0 -960 960 960\">\n",
              "    <path d=\"M120-120v-720h720v720H120Zm60-500h600v-160H180v160Zm220 220h160v-160H400v160Zm0 220h160v-160H400v160ZM180-400h160v-160H180v160Zm440 0h160v-160H620v160ZM180-180h160v-160H180v160Zm440 0h160v-160H620v160Z\"/>\n",
              "  </svg>\n",
              "    </button>\n",
              "\n",
              "  <style>\n",
              "    .colab-df-container {\n",
              "      display:flex;\n",
              "      gap: 12px;\n",
              "    }\n",
              "\n",
              "    .colab-df-convert {\n",
              "      background-color: #E8F0FE;\n",
              "      border: none;\n",
              "      border-radius: 50%;\n",
              "      cursor: pointer;\n",
              "      display: none;\n",
              "      fill: #1967D2;\n",
              "      height: 32px;\n",
              "      padding: 0 0 0 0;\n",
              "      width: 32px;\n",
              "    }\n",
              "\n",
              "    .colab-df-convert:hover {\n",
              "      background-color: #E2EBFA;\n",
              "      box-shadow: 0px 1px 2px rgba(60, 64, 67, 0.3), 0px 1px 3px 1px rgba(60, 64, 67, 0.15);\n",
              "      fill: #174EA6;\n",
              "    }\n",
              "\n",
              "    .colab-df-buttons div {\n",
              "      margin-bottom: 4px;\n",
              "    }\n",
              "\n",
              "    [theme=dark] .colab-df-convert {\n",
              "      background-color: #3B4455;\n",
              "      fill: #D2E3FC;\n",
              "    }\n",
              "\n",
              "    [theme=dark] .colab-df-convert:hover {\n",
              "      background-color: #434B5C;\n",
              "      box-shadow: 0px 1px 3px 1px rgba(0, 0, 0, 0.15);\n",
              "      filter: drop-shadow(0px 1px 2px rgba(0, 0, 0, 0.3));\n",
              "      fill: #FFFFFF;\n",
              "    }\n",
              "  </style>\n",
              "\n",
              "    <script>\n",
              "      const buttonEl =\n",
              "        document.querySelector('#df-e9f0f15a-6de5-46f4-be73-6f8779fa920e button.colab-df-convert');\n",
              "      buttonEl.style.display =\n",
              "        google.colab.kernel.accessAllowed ? 'block' : 'none';\n",
              "\n",
              "      async function convertToInteractive(key) {\n",
              "        const element = document.querySelector('#df-e9f0f15a-6de5-46f4-be73-6f8779fa920e');\n",
              "        const dataTable =\n",
              "          await google.colab.kernel.invokeFunction('convertToInteractive',\n",
              "                                                    [key], {});\n",
              "        if (!dataTable) return;\n",
              "\n",
              "        const docLinkHtml = 'Like what you see? Visit the ' +\n",
              "          '<a target=\"_blank\" href=https://colab.research.google.com/notebooks/data_table.ipynb>data table notebook</a>'\n",
              "          + ' to learn more about interactive tables.';\n",
              "        element.innerHTML = '';\n",
              "        dataTable['output_type'] = 'display_data';\n",
              "        await google.colab.output.renderOutput(dataTable, element);\n",
              "        const docLink = document.createElement('div');\n",
              "        docLink.innerHTML = docLinkHtml;\n",
              "        element.appendChild(docLink);\n",
              "      }\n",
              "    </script>\n",
              "  </div>\n",
              "\n",
              "\n",
              "<div id=\"df-c5ed4712-4970-45e6-9d95-a4314cabfa19\">\n",
              "  <button class=\"colab-df-quickchart\" onclick=\"quickchart('df-c5ed4712-4970-45e6-9d95-a4314cabfa19')\"\n",
              "            title=\"Suggest charts\"\n",
              "            style=\"display:none;\">\n",
              "\n",
              "<svg xmlns=\"http://www.w3.org/2000/svg\" height=\"24px\"viewBox=\"0 0 24 24\"\n",
              "     width=\"24px\">\n",
              "    <g>\n",
              "        <path d=\"M19 3H5c-1.1 0-2 .9-2 2v14c0 1.1.9 2 2 2h14c1.1 0 2-.9 2-2V5c0-1.1-.9-2-2-2zM9 17H7v-7h2v7zm4 0h-2V7h2v10zm4 0h-2v-4h2v4z\"/>\n",
              "    </g>\n",
              "</svg>\n",
              "  </button>\n",
              "\n",
              "<style>\n",
              "  .colab-df-quickchart {\n",
              "      --bg-color: #E8F0FE;\n",
              "      --fill-color: #1967D2;\n",
              "      --hover-bg-color: #E2EBFA;\n",
              "      --hover-fill-color: #174EA6;\n",
              "      --disabled-fill-color: #AAA;\n",
              "      --disabled-bg-color: #DDD;\n",
              "  }\n",
              "\n",
              "  [theme=dark] .colab-df-quickchart {\n",
              "      --bg-color: #3B4455;\n",
              "      --fill-color: #D2E3FC;\n",
              "      --hover-bg-color: #434B5C;\n",
              "      --hover-fill-color: #FFFFFF;\n",
              "      --disabled-bg-color: #3B4455;\n",
              "      --disabled-fill-color: #666;\n",
              "  }\n",
              "\n",
              "  .colab-df-quickchart {\n",
              "    background-color: var(--bg-color);\n",
              "    border: none;\n",
              "    border-radius: 50%;\n",
              "    cursor: pointer;\n",
              "    display: none;\n",
              "    fill: var(--fill-color);\n",
              "    height: 32px;\n",
              "    padding: 0;\n",
              "    width: 32px;\n",
              "  }\n",
              "\n",
              "  .colab-df-quickchart:hover {\n",
              "    background-color: var(--hover-bg-color);\n",
              "    box-shadow: 0 1px 2px rgba(60, 64, 67, 0.3), 0 1px 3px 1px rgba(60, 64, 67, 0.15);\n",
              "    fill: var(--button-hover-fill-color);\n",
              "  }\n",
              "\n",
              "  .colab-df-quickchart-complete:disabled,\n",
              "  .colab-df-quickchart-complete:disabled:hover {\n",
              "    background-color: var(--disabled-bg-color);\n",
              "    fill: var(--disabled-fill-color);\n",
              "    box-shadow: none;\n",
              "  }\n",
              "\n",
              "  .colab-df-spinner {\n",
              "    border: 2px solid var(--fill-color);\n",
              "    border-color: transparent;\n",
              "    border-bottom-color: var(--fill-color);\n",
              "    animation:\n",
              "      spin 1s steps(1) infinite;\n",
              "  }\n",
              "\n",
              "  @keyframes spin {\n",
              "    0% {\n",
              "      border-color: transparent;\n",
              "      border-bottom-color: var(--fill-color);\n",
              "      border-left-color: var(--fill-color);\n",
              "    }\n",
              "    20% {\n",
              "      border-color: transparent;\n",
              "      border-left-color: var(--fill-color);\n",
              "      border-top-color: var(--fill-color);\n",
              "    }\n",
              "    30% {\n",
              "      border-color: transparent;\n",
              "      border-left-color: var(--fill-color);\n",
              "      border-top-color: var(--fill-color);\n",
              "      border-right-color: var(--fill-color);\n",
              "    }\n",
              "    40% {\n",
              "      border-color: transparent;\n",
              "      border-right-color: var(--fill-color);\n",
              "      border-top-color: var(--fill-color);\n",
              "    }\n",
              "    60% {\n",
              "      border-color: transparent;\n",
              "      border-right-color: var(--fill-color);\n",
              "    }\n",
              "    80% {\n",
              "      border-color: transparent;\n",
              "      border-right-color: var(--fill-color);\n",
              "      border-bottom-color: var(--fill-color);\n",
              "    }\n",
              "    90% {\n",
              "      border-color: transparent;\n",
              "      border-bottom-color: var(--fill-color);\n",
              "    }\n",
              "  }\n",
              "</style>\n",
              "\n",
              "  <script>\n",
              "    async function quickchart(key) {\n",
              "      const quickchartButtonEl =\n",
              "        document.querySelector('#' + key + ' button');\n",
              "      quickchartButtonEl.disabled = true;  // To prevent multiple clicks.\n",
              "      quickchartButtonEl.classList.add('colab-df-spinner');\n",
              "      try {\n",
              "        const charts = await google.colab.kernel.invokeFunction(\n",
              "            'suggestCharts', [key], {});\n",
              "      } catch (error) {\n",
              "        console.error('Error during call to suggestCharts:', error);\n",
              "      }\n",
              "      quickchartButtonEl.classList.remove('colab-df-spinner');\n",
              "      quickchartButtonEl.classList.add('colab-df-quickchart-complete');\n",
              "    }\n",
              "    (() => {\n",
              "      let quickchartButtonEl =\n",
              "        document.querySelector('#df-c5ed4712-4970-45e6-9d95-a4314cabfa19 button');\n",
              "      quickchartButtonEl.style.display =\n",
              "        google.colab.kernel.accessAllowed ? 'block' : 'none';\n",
              "    })();\n",
              "  </script>\n",
              "</div>\n",
              "\n",
              "    </div>\n",
              "  </div>\n"
            ],
            "application/vnd.google.colaboratory.intrinsic+json": {
              "type": "dataframe",
              "variable_name": "df",
              "summary": "{\n  \"name\": \"df\",\n  \"rows\": 500,\n  \"fields\": [\n    {\n      \"column\": \"Unnamed: 0\",\n      \"properties\": {\n        \"dtype\": \"number\",\n        \"std\": 144,\n        \"min\": 0,\n        \"max\": 499,\n        \"num_unique_values\": 500,\n        \"samples\": [\n          361,\n          73,\n          374\n        ],\n        \"semantic_type\": \"\",\n        \"description\": \"\"\n      }\n    },\n    {\n      \"column\": \"ticker\",\n      \"properties\": {\n        \"dtype\": \"category\",\n        \"num_unique_values\": 5,\n        \"samples\": [\n          \"AAPL\",\n          \"GOOGL\",\n          \"AMZN\"\n        ],\n        \"semantic_type\": \"\",\n        \"description\": \"\"\n      }\n    },\n    {\n      \"column\": \"date\",\n      \"properties\": {\n        \"dtype\": \"object\",\n        \"num_unique_values\": 16,\n        \"samples\": [\n          \"22-09-2021\",\n          \"21-09-2021\",\n          \"17-09-2021\"\n        ],\n        \"semantic_type\": \"\",\n        \"description\": \"\"\n      }\n    },\n    {\n      \"column\": \"time\",\n      \"properties\": {\n        \"dtype\": \"object\",\n        \"num_unique_values\": 309,\n        \"samples\": [\n          \"01:35PM\",\n          \"03:08PM\",\n          \"09:34AM\"\n        ],\n        \"semantic_type\": \"\",\n        \"description\": \"\"\n      }\n    },\n    {\n      \"column\": \"headline\",\n      \"properties\": {\n        \"dtype\": \"string\",\n        \"num_unique_values\": 393,\n        \"samples\": [\n          \"How Facebook plans to earn peoples trust with its Novi digital wallet\",\n          \"Emmy Awards: It's 'Ted Lasso' vs 'Mare', 'Queen's Gambit' in streaming showdown\",\n          \"Fintechs Pose A Threat For Conventional Lenders - Read How\"\n        ],\n        \"semantic_type\": \"\",\n        \"description\": \"\"\n      }\n    },\n    {\n      \"column\": \"neg\",\n      \"properties\": {\n        \"dtype\": \"number\",\n        \"std\": 0.11179872796749658,\n        \"min\": 0.0,\n        \"max\": 0.519,\n        \"num_unique_values\": 76,\n        \"samples\": [\n          0.245,\n          0.136,\n          0.326\n        ],\n        \"semantic_type\": \"\",\n        \"description\": \"\"\n      }\n    },\n    {\n      \"column\": \"neu\",\n      \"properties\": {\n        \"dtype\": \"number\",\n        \"std\": 0.1710596040339873,\n        \"min\": 0.306,\n        \"max\": 1.0,\n        \"num_unique_values\": 152,\n        \"samples\": [\n          0.4,\n          0.567,\n          0.914\n        ],\n        \"semantic_type\": \"\",\n        \"description\": \"\"\n      }\n    },\n    {\n      \"column\": \"pos\",\n      \"properties\": {\n        \"dtype\": \"number\",\n        \"std\": 0.15728381213309345,\n        \"min\": 0.0,\n        \"max\": 0.694,\n        \"num_unique_values\": 108,\n        \"samples\": [\n          0.227,\n          0.394,\n          0.231\n        ],\n        \"semantic_type\": \"\",\n        \"description\": \"\"\n      }\n    },\n    {\n      \"column\": \"compound\",\n      \"properties\": {\n        \"dtype\": \"number\",\n        \"std\": 0.34610651088558675,\n        \"min\": -0.743,\n        \"max\": 0.9413,\n        \"num_unique_values\": 87,\n        \"samples\": [\n          0.0516,\n          0.7003,\n          -0.1531\n        ],\n        \"semantic_type\": \"\",\n        \"description\": \"\"\n      }\n    },\n    {\n      \"column\": \"Unnamed: 9\",\n      \"properties\": {\n        \"dtype\": \"number\",\n        \"std\": null,\n        \"min\": null,\n        \"max\": null,\n        \"num_unique_values\": 0,\n        \"samples\": [],\n        \"semantic_type\": \"\",\n        \"description\": \"\"\n      }\n    }\n  ]\n}"
            }
          },
          "metadata": {},
          "execution_count": 3
        }
      ]
    },
    {
      "cell_type": "code",
      "source": [
        "df.info()"
      ],
      "metadata": {
        "colab": {
          "base_uri": "https://localhost:8080/"
        },
        "id": "qpWSkVnfYmFF",
        "outputId": "db7ed511-f4c7-40f7-861e-83ab1a971df9"
      },
      "execution_count": 4,
      "outputs": [
        {
          "output_type": "stream",
          "name": "stdout",
          "text": [
            "<class 'pandas.core.frame.DataFrame'>\n",
            "RangeIndex: 500 entries, 0 to 499\n",
            "Data columns (total 10 columns):\n",
            " #   Column      Non-Null Count  Dtype  \n",
            "---  ------      --------------  -----  \n",
            " 0   Unnamed: 0  500 non-null    int64  \n",
            " 1   ticker      500 non-null    object \n",
            " 2   date        500 non-null    object \n",
            " 3   time        500 non-null    object \n",
            " 4   headline    500 non-null    object \n",
            " 5   neg         500 non-null    float64\n",
            " 6   neu         500 non-null    float64\n",
            " 7   pos         500 non-null    float64\n",
            " 8   compound    500 non-null    float64\n",
            " 9   Unnamed: 9  0 non-null      float64\n",
            "dtypes: float64(5), int64(1), object(4)\n",
            "memory usage: 39.2+ KB\n"
          ]
        }
      ]
    },
    {
      "cell_type": "code",
      "source": [
        "filtered_df = df[df['ticker'] == 'AMZN']\n",
        "# Print the unique ticker values\n",
        "print(len(filtered_df))"
      ],
      "metadata": {
        "colab": {
          "base_uri": "https://localhost:8080/"
        },
        "id": "NeF5FNigYpdJ",
        "outputId": "cf7b152b-ab84-45aa-cee5-e1dd92706a21"
      },
      "execution_count": 5,
      "outputs": [
        {
          "output_type": "stream",
          "name": "stdout",
          "text": [
            "100\n"
          ]
        }
      ]
    },
    {
      "cell_type": "code",
      "source": [
        "# Copy of df\n",
        "cdf=df.copy()"
      ],
      "metadata": {
        "id": "bvIPSYdovH8K"
      },
      "execution_count": 6,
      "outputs": []
    },
    {
      "cell_type": "code",
      "source": [
        "# Function to classify sentiment\n",
        "\n",
        "# When analyzing the compound score, I discovered that approximately values less than -0.1 are typically classified as negative sentiment,\n",
        "# while values greater than 0.4 are considered positive sentiment. The rest of the values are typically categorized as neutral sentiment.\n",
        "\n",
        "Sentiment = [] # For storing positive,negative,neutral Sentiment.\n",
        "\n",
        "for score in cdf['compound']:\n",
        "    if score <= -0.1:\n",
        "        Sentiment.append('Negative')\n",
        "    elif score >= 0.4:\n",
        "        Sentiment.append('Positive')\n",
        "    else:\n",
        "        Sentiment.append('Neutral')\n"
      ],
      "metadata": {
        "id": "rxzRi-petoWW"
      },
      "execution_count": 7,
      "outputs": []
    },
    {
      "cell_type": "code",
      "source": [
        "# Add Sentiment column to DataFrame\n",
        "cdf['Sentiment'] = Sentiment\n"
      ],
      "metadata": {
        "id": "snN30VZEvuhJ"
      },
      "execution_count": 8,
      "outputs": []
    },
    {
      "cell_type": "code",
      "source": [
        "cdf.head(20)"
      ],
      "metadata": {
        "colab": {
          "base_uri": "https://localhost:8080/",
          "height": 676
        },
        "id": "6jHT3fO7upeL",
        "outputId": "fe74a7a9-a5a5-4f15-b405-f753dbedd710"
      },
      "execution_count": 9,
      "outputs": [
        {
          "output_type": "execute_result",
          "data": {
            "text/plain": [
              "    Unnamed: 0 ticker        date     time  \\\n",
              "0            0     FB  22-09-2021  06:30AM   \n",
              "1            1     FB  22-09-2021  02:23AM   \n",
              "2            2     FB  22-09-2021  12:36AM   \n",
              "3            3     FB  22-09-2021  12:27AM   \n",
              "4            4     FB  21-09-2021  10:34PM   \n",
              "5            5     FB  21-09-2021  06:20PM   \n",
              "6            6     FB  21-09-2021  04:54PM   \n",
              "7            7     FB  21-09-2021  04:37PM   \n",
              "8            8     FB  21-09-2021  04:36PM   \n",
              "9            9     FB  21-09-2021  03:08PM   \n",
              "10          10     FB  21-09-2021  03:06PM   \n",
              "11          11     FB  21-09-2021  02:33PM   \n",
              "12          12     FB  21-09-2021  02:21PM   \n",
              "13          13     FB  21-09-2021  01:23PM   \n",
              "14          14     FB  21-09-2021  01:06PM   \n",
              "15          15     FB  21-09-2021  01:04PM   \n",
              "16          16     FB  21-09-2021  01:03PM   \n",
              "17          17     FB  21-09-2021  01:00PM   \n",
              "18          18     FB  21-09-2021  01:00PM   \n",
              "19          19     FB  21-09-2021  12:31PM   \n",
              "\n",
              "                                             headline    neg    neu    pos  \\\n",
              "0   2 Growth Stocks to Buy Hand Over Fist If the M...  0.000  0.608  0.392   \n",
              "1   UPDATE 1-Facebook wraps up deals with Australi...  0.167  0.833  0.000   \n",
              "2   Facebook wraps up deals with Australian media ...  0.179  0.821  0.000   \n",
              "3   Facebook wraps up deals with Australia media f...  0.000  1.000  0.000   \n",
              "4   Facebook overpaid FTC fine as quid pro quo to ...  0.099  0.659  0.242   \n",
              "5   Is GBTC Stock A Good Buy As Bitcoin Slumps Aft...  0.000  0.775  0.225   \n",
              "6   Facebook Oversight Board to Review Special Rul...  0.000  0.769  0.231   \n",
              "7   Facebook says Wall Street Journal report alleg...  0.000  1.000  0.000   \n",
              "8    These Are The 5 Best Stocks To Buy And Watch Now  0.000  0.682  0.318   \n",
              "9   Facebook Questioned by Oversight Board Over Ce...  0.167  0.833  0.000   \n",
              "10  UPDATE 1-Facebook Oversight Board seeks clarit...  0.000  0.803  0.197   \n",
              "11  Hedge Funds Have Never Been This Bullish On Fa...  0.000  1.000  0.000   \n",
              "12  Facebook Oversight Board seeks clarity on revi...  0.000  0.787  0.213   \n",
              "13  Top Research Reports for Facebook, Walmart & N...  0.000  0.769  0.231   \n",
              "14  Facebook, Inc. Donates $2 Million to McBride S...  0.000  1.000  0.000   \n",
              "15  Why Goldman Sachs just launched this ETF that ...  0.000  0.880  0.120   \n",
              "16  Facebook to launch portable version of Portal ...  0.000  1.000  0.000   \n",
              "17  Facebook launches new versions of its Portal v...  0.000  1.000  0.000   \n",
              "18  Facebook Looks to Carve Out Market for Mobile ...  0.000  1.000  0.000   \n",
              "19  Facebook Unveils Two New Portal Audio-Video De...  0.000  1.000  0.000   \n",
              "\n",
              "    compound  Unnamed: 9 Sentiment  \n",
              "0     0.7003         NaN  Positive  \n",
              "1    -0.3400         NaN  Negative  \n",
              "2    -0.3400         NaN  Negative  \n",
              "3     0.0000         NaN   Neutral  \n",
              "4     0.3818         NaN   Neutral  \n",
              "5     0.4404         NaN  Positive  \n",
              "6     0.4019         NaN  Positive  \n",
              "7     0.0000         NaN   Neutral  \n",
              "8     0.6369         NaN  Positive  \n",
              "9    -0.1027         NaN  Negative  \n",
              "10    0.4019         NaN  Positive  \n",
              "11    0.0000         NaN   Neutral  \n",
              "12    0.4019         NaN  Positive  \n",
              "13    0.2023         NaN   Neutral  \n",
              "14    0.0000         NaN   Neutral  \n",
              "15    0.1280         NaN   Neutral  \n",
              "16    0.0000         NaN   Neutral  \n",
              "17    0.0000         NaN   Neutral  \n",
              "18    0.0000         NaN   Neutral  \n",
              "19    0.0000         NaN   Neutral  "
            ],
            "text/html": [
              "\n",
              "  <div id=\"df-36d804fa-c5b9-4354-9dc2-feeb9f20445a\" class=\"colab-df-container\">\n",
              "    <div>\n",
              "<style scoped>\n",
              "    .dataframe tbody tr th:only-of-type {\n",
              "        vertical-align: middle;\n",
              "    }\n",
              "\n",
              "    .dataframe tbody tr th {\n",
              "        vertical-align: top;\n",
              "    }\n",
              "\n",
              "    .dataframe thead th {\n",
              "        text-align: right;\n",
              "    }\n",
              "</style>\n",
              "<table border=\"1\" class=\"dataframe\">\n",
              "  <thead>\n",
              "    <tr style=\"text-align: right;\">\n",
              "      <th></th>\n",
              "      <th>Unnamed: 0</th>\n",
              "      <th>ticker</th>\n",
              "      <th>date</th>\n",
              "      <th>time</th>\n",
              "      <th>headline</th>\n",
              "      <th>neg</th>\n",
              "      <th>neu</th>\n",
              "      <th>pos</th>\n",
              "      <th>compound</th>\n",
              "      <th>Unnamed: 9</th>\n",
              "      <th>Sentiment</th>\n",
              "    </tr>\n",
              "  </thead>\n",
              "  <tbody>\n",
              "    <tr>\n",
              "      <th>0</th>\n",
              "      <td>0</td>\n",
              "      <td>FB</td>\n",
              "      <td>22-09-2021</td>\n",
              "      <td>06:30AM</td>\n",
              "      <td>2 Growth Stocks to Buy Hand Over Fist If the M...</td>\n",
              "      <td>0.000</td>\n",
              "      <td>0.608</td>\n",
              "      <td>0.392</td>\n",
              "      <td>0.7003</td>\n",
              "      <td>NaN</td>\n",
              "      <td>Positive</td>\n",
              "    </tr>\n",
              "    <tr>\n",
              "      <th>1</th>\n",
              "      <td>1</td>\n",
              "      <td>FB</td>\n",
              "      <td>22-09-2021</td>\n",
              "      <td>02:23AM</td>\n",
              "      <td>UPDATE 1-Facebook wraps up deals with Australi...</td>\n",
              "      <td>0.167</td>\n",
              "      <td>0.833</td>\n",
              "      <td>0.000</td>\n",
              "      <td>-0.3400</td>\n",
              "      <td>NaN</td>\n",
              "      <td>Negative</td>\n",
              "    </tr>\n",
              "    <tr>\n",
              "      <th>2</th>\n",
              "      <td>2</td>\n",
              "      <td>FB</td>\n",
              "      <td>22-09-2021</td>\n",
              "      <td>12:36AM</td>\n",
              "      <td>Facebook wraps up deals with Australian media ...</td>\n",
              "      <td>0.179</td>\n",
              "      <td>0.821</td>\n",
              "      <td>0.000</td>\n",
              "      <td>-0.3400</td>\n",
              "      <td>NaN</td>\n",
              "      <td>Negative</td>\n",
              "    </tr>\n",
              "    <tr>\n",
              "      <th>3</th>\n",
              "      <td>3</td>\n",
              "      <td>FB</td>\n",
              "      <td>22-09-2021</td>\n",
              "      <td>12:27AM</td>\n",
              "      <td>Facebook wraps up deals with Australia media f...</td>\n",
              "      <td>0.000</td>\n",
              "      <td>1.000</td>\n",
              "      <td>0.000</td>\n",
              "      <td>0.0000</td>\n",
              "      <td>NaN</td>\n",
              "      <td>Neutral</td>\n",
              "    </tr>\n",
              "    <tr>\n",
              "      <th>4</th>\n",
              "      <td>4</td>\n",
              "      <td>FB</td>\n",
              "      <td>21-09-2021</td>\n",
              "      <td>10:34PM</td>\n",
              "      <td>Facebook overpaid FTC fine as quid pro quo to ...</td>\n",
              "      <td>0.099</td>\n",
              "      <td>0.659</td>\n",
              "      <td>0.242</td>\n",
              "      <td>0.3818</td>\n",
              "      <td>NaN</td>\n",
              "      <td>Neutral</td>\n",
              "    </tr>\n",
              "    <tr>\n",
              "      <th>5</th>\n",
              "      <td>5</td>\n",
              "      <td>FB</td>\n",
              "      <td>21-09-2021</td>\n",
              "      <td>06:20PM</td>\n",
              "      <td>Is GBTC Stock A Good Buy As Bitcoin Slumps Aft...</td>\n",
              "      <td>0.000</td>\n",
              "      <td>0.775</td>\n",
              "      <td>0.225</td>\n",
              "      <td>0.4404</td>\n",
              "      <td>NaN</td>\n",
              "      <td>Positive</td>\n",
              "    </tr>\n",
              "    <tr>\n",
              "      <th>6</th>\n",
              "      <td>6</td>\n",
              "      <td>FB</td>\n",
              "      <td>21-09-2021</td>\n",
              "      <td>04:54PM</td>\n",
              "      <td>Facebook Oversight Board to Review Special Rul...</td>\n",
              "      <td>0.000</td>\n",
              "      <td>0.769</td>\n",
              "      <td>0.231</td>\n",
              "      <td>0.4019</td>\n",
              "      <td>NaN</td>\n",
              "      <td>Positive</td>\n",
              "    </tr>\n",
              "    <tr>\n",
              "      <th>7</th>\n",
              "      <td>7</td>\n",
              "      <td>FB</td>\n",
              "      <td>21-09-2021</td>\n",
              "      <td>04:37PM</td>\n",
              "      <td>Facebook says Wall Street Journal report alleg...</td>\n",
              "      <td>0.000</td>\n",
              "      <td>1.000</td>\n",
              "      <td>0.000</td>\n",
              "      <td>0.0000</td>\n",
              "      <td>NaN</td>\n",
              "      <td>Neutral</td>\n",
              "    </tr>\n",
              "    <tr>\n",
              "      <th>8</th>\n",
              "      <td>8</td>\n",
              "      <td>FB</td>\n",
              "      <td>21-09-2021</td>\n",
              "      <td>04:36PM</td>\n",
              "      <td>These Are The 5 Best Stocks To Buy And Watch Now</td>\n",
              "      <td>0.000</td>\n",
              "      <td>0.682</td>\n",
              "      <td>0.318</td>\n",
              "      <td>0.6369</td>\n",
              "      <td>NaN</td>\n",
              "      <td>Positive</td>\n",
              "    </tr>\n",
              "    <tr>\n",
              "      <th>9</th>\n",
              "      <td>9</td>\n",
              "      <td>FB</td>\n",
              "      <td>21-09-2021</td>\n",
              "      <td>03:08PM</td>\n",
              "      <td>Facebook Questioned by Oversight Board Over Ce...</td>\n",
              "      <td>0.167</td>\n",
              "      <td>0.833</td>\n",
              "      <td>0.000</td>\n",
              "      <td>-0.1027</td>\n",
              "      <td>NaN</td>\n",
              "      <td>Negative</td>\n",
              "    </tr>\n",
              "    <tr>\n",
              "      <th>10</th>\n",
              "      <td>10</td>\n",
              "      <td>FB</td>\n",
              "      <td>21-09-2021</td>\n",
              "      <td>03:06PM</td>\n",
              "      <td>UPDATE 1-Facebook Oversight Board seeks clarit...</td>\n",
              "      <td>0.000</td>\n",
              "      <td>0.803</td>\n",
              "      <td>0.197</td>\n",
              "      <td>0.4019</td>\n",
              "      <td>NaN</td>\n",
              "      <td>Positive</td>\n",
              "    </tr>\n",
              "    <tr>\n",
              "      <th>11</th>\n",
              "      <td>11</td>\n",
              "      <td>FB</td>\n",
              "      <td>21-09-2021</td>\n",
              "      <td>02:33PM</td>\n",
              "      <td>Hedge Funds Have Never Been This Bullish On Fa...</td>\n",
              "      <td>0.000</td>\n",
              "      <td>1.000</td>\n",
              "      <td>0.000</td>\n",
              "      <td>0.0000</td>\n",
              "      <td>NaN</td>\n",
              "      <td>Neutral</td>\n",
              "    </tr>\n",
              "    <tr>\n",
              "      <th>12</th>\n",
              "      <td>12</td>\n",
              "      <td>FB</td>\n",
              "      <td>21-09-2021</td>\n",
              "      <td>02:21PM</td>\n",
              "      <td>Facebook Oversight Board seeks clarity on revi...</td>\n",
              "      <td>0.000</td>\n",
              "      <td>0.787</td>\n",
              "      <td>0.213</td>\n",
              "      <td>0.4019</td>\n",
              "      <td>NaN</td>\n",
              "      <td>Positive</td>\n",
              "    </tr>\n",
              "    <tr>\n",
              "      <th>13</th>\n",
              "      <td>13</td>\n",
              "      <td>FB</td>\n",
              "      <td>21-09-2021</td>\n",
              "      <td>01:23PM</td>\n",
              "      <td>Top Research Reports for Facebook, Walmart &amp; N...</td>\n",
              "      <td>0.000</td>\n",
              "      <td>0.769</td>\n",
              "      <td>0.231</td>\n",
              "      <td>0.2023</td>\n",
              "      <td>NaN</td>\n",
              "      <td>Neutral</td>\n",
              "    </tr>\n",
              "    <tr>\n",
              "      <th>14</th>\n",
              "      <td>14</td>\n",
              "      <td>FB</td>\n",
              "      <td>21-09-2021</td>\n",
              "      <td>01:06PM</td>\n",
              "      <td>Facebook, Inc. Donates $2 Million to McBride S...</td>\n",
              "      <td>0.000</td>\n",
              "      <td>1.000</td>\n",
              "      <td>0.000</td>\n",
              "      <td>0.0000</td>\n",
              "      <td>NaN</td>\n",
              "      <td>Neutral</td>\n",
              "    </tr>\n",
              "    <tr>\n",
              "      <th>15</th>\n",
              "      <td>15</td>\n",
              "      <td>FB</td>\n",
              "      <td>21-09-2021</td>\n",
              "      <td>01:04PM</td>\n",
              "      <td>Why Goldman Sachs just launched this ETF that ...</td>\n",
              "      <td>0.000</td>\n",
              "      <td>0.880</td>\n",
              "      <td>0.120</td>\n",
              "      <td>0.1280</td>\n",
              "      <td>NaN</td>\n",
              "      <td>Neutral</td>\n",
              "    </tr>\n",
              "    <tr>\n",
              "      <th>16</th>\n",
              "      <td>16</td>\n",
              "      <td>FB</td>\n",
              "      <td>21-09-2021</td>\n",
              "      <td>01:03PM</td>\n",
              "      <td>Facebook to launch portable version of Portal ...</td>\n",
              "      <td>0.000</td>\n",
              "      <td>1.000</td>\n",
              "      <td>0.000</td>\n",
              "      <td>0.0000</td>\n",
              "      <td>NaN</td>\n",
              "      <td>Neutral</td>\n",
              "    </tr>\n",
              "    <tr>\n",
              "      <th>17</th>\n",
              "      <td>17</td>\n",
              "      <td>FB</td>\n",
              "      <td>21-09-2021</td>\n",
              "      <td>01:00PM</td>\n",
              "      <td>Facebook launches new versions of its Portal v...</td>\n",
              "      <td>0.000</td>\n",
              "      <td>1.000</td>\n",
              "      <td>0.000</td>\n",
              "      <td>0.0000</td>\n",
              "      <td>NaN</td>\n",
              "      <td>Neutral</td>\n",
              "    </tr>\n",
              "    <tr>\n",
              "      <th>18</th>\n",
              "      <td>18</td>\n",
              "      <td>FB</td>\n",
              "      <td>21-09-2021</td>\n",
              "      <td>01:00PM</td>\n",
              "      <td>Facebook Looks to Carve Out Market for Mobile ...</td>\n",
              "      <td>0.000</td>\n",
              "      <td>1.000</td>\n",
              "      <td>0.000</td>\n",
              "      <td>0.0000</td>\n",
              "      <td>NaN</td>\n",
              "      <td>Neutral</td>\n",
              "    </tr>\n",
              "    <tr>\n",
              "      <th>19</th>\n",
              "      <td>19</td>\n",
              "      <td>FB</td>\n",
              "      <td>21-09-2021</td>\n",
              "      <td>12:31PM</td>\n",
              "      <td>Facebook Unveils Two New Portal Audio-Video De...</td>\n",
              "      <td>0.000</td>\n",
              "      <td>1.000</td>\n",
              "      <td>0.000</td>\n",
              "      <td>0.0000</td>\n",
              "      <td>NaN</td>\n",
              "      <td>Neutral</td>\n",
              "    </tr>\n",
              "  </tbody>\n",
              "</table>\n",
              "</div>\n",
              "    <div class=\"colab-df-buttons\">\n",
              "\n",
              "  <div class=\"colab-df-container\">\n",
              "    <button class=\"colab-df-convert\" onclick=\"convertToInteractive('df-36d804fa-c5b9-4354-9dc2-feeb9f20445a')\"\n",
              "            title=\"Convert this dataframe to an interactive table.\"\n",
              "            style=\"display:none;\">\n",
              "\n",
              "  <svg xmlns=\"http://www.w3.org/2000/svg\" height=\"24px\" viewBox=\"0 -960 960 960\">\n",
              "    <path d=\"M120-120v-720h720v720H120Zm60-500h600v-160H180v160Zm220 220h160v-160H400v160Zm0 220h160v-160H400v160ZM180-400h160v-160H180v160Zm440 0h160v-160H620v160ZM180-180h160v-160H180v160Zm440 0h160v-160H620v160Z\"/>\n",
              "  </svg>\n",
              "    </button>\n",
              "\n",
              "  <style>\n",
              "    .colab-df-container {\n",
              "      display:flex;\n",
              "      gap: 12px;\n",
              "    }\n",
              "\n",
              "    .colab-df-convert {\n",
              "      background-color: #E8F0FE;\n",
              "      border: none;\n",
              "      border-radius: 50%;\n",
              "      cursor: pointer;\n",
              "      display: none;\n",
              "      fill: #1967D2;\n",
              "      height: 32px;\n",
              "      padding: 0 0 0 0;\n",
              "      width: 32px;\n",
              "    }\n",
              "\n",
              "    .colab-df-convert:hover {\n",
              "      background-color: #E2EBFA;\n",
              "      box-shadow: 0px 1px 2px rgba(60, 64, 67, 0.3), 0px 1px 3px 1px rgba(60, 64, 67, 0.15);\n",
              "      fill: #174EA6;\n",
              "    }\n",
              "\n",
              "    .colab-df-buttons div {\n",
              "      margin-bottom: 4px;\n",
              "    }\n",
              "\n",
              "    [theme=dark] .colab-df-convert {\n",
              "      background-color: #3B4455;\n",
              "      fill: #D2E3FC;\n",
              "    }\n",
              "\n",
              "    [theme=dark] .colab-df-convert:hover {\n",
              "      background-color: #434B5C;\n",
              "      box-shadow: 0px 1px 3px 1px rgba(0, 0, 0, 0.15);\n",
              "      filter: drop-shadow(0px 1px 2px rgba(0, 0, 0, 0.3));\n",
              "      fill: #FFFFFF;\n",
              "    }\n",
              "  </style>\n",
              "\n",
              "    <script>\n",
              "      const buttonEl =\n",
              "        document.querySelector('#df-36d804fa-c5b9-4354-9dc2-feeb9f20445a button.colab-df-convert');\n",
              "      buttonEl.style.display =\n",
              "        google.colab.kernel.accessAllowed ? 'block' : 'none';\n",
              "\n",
              "      async function convertToInteractive(key) {\n",
              "        const element = document.querySelector('#df-36d804fa-c5b9-4354-9dc2-feeb9f20445a');\n",
              "        const dataTable =\n",
              "          await google.colab.kernel.invokeFunction('convertToInteractive',\n",
              "                                                    [key], {});\n",
              "        if (!dataTable) return;\n",
              "\n",
              "        const docLinkHtml = 'Like what you see? Visit the ' +\n",
              "          '<a target=\"_blank\" href=https://colab.research.google.com/notebooks/data_table.ipynb>data table notebook</a>'\n",
              "          + ' to learn more about interactive tables.';\n",
              "        element.innerHTML = '';\n",
              "        dataTable['output_type'] = 'display_data';\n",
              "        await google.colab.output.renderOutput(dataTable, element);\n",
              "        const docLink = document.createElement('div');\n",
              "        docLink.innerHTML = docLinkHtml;\n",
              "        element.appendChild(docLink);\n",
              "      }\n",
              "    </script>\n",
              "  </div>\n",
              "\n",
              "\n",
              "<div id=\"df-cb8f2ffc-5cd2-4ef1-89b6-cc7d483ff66d\">\n",
              "  <button class=\"colab-df-quickchart\" onclick=\"quickchart('df-cb8f2ffc-5cd2-4ef1-89b6-cc7d483ff66d')\"\n",
              "            title=\"Suggest charts\"\n",
              "            style=\"display:none;\">\n",
              "\n",
              "<svg xmlns=\"http://www.w3.org/2000/svg\" height=\"24px\"viewBox=\"0 0 24 24\"\n",
              "     width=\"24px\">\n",
              "    <g>\n",
              "        <path d=\"M19 3H5c-1.1 0-2 .9-2 2v14c0 1.1.9 2 2 2h14c1.1 0 2-.9 2-2V5c0-1.1-.9-2-2-2zM9 17H7v-7h2v7zm4 0h-2V7h2v10zm4 0h-2v-4h2v4z\"/>\n",
              "    </g>\n",
              "</svg>\n",
              "  </button>\n",
              "\n",
              "<style>\n",
              "  .colab-df-quickchart {\n",
              "      --bg-color: #E8F0FE;\n",
              "      --fill-color: #1967D2;\n",
              "      --hover-bg-color: #E2EBFA;\n",
              "      --hover-fill-color: #174EA6;\n",
              "      --disabled-fill-color: #AAA;\n",
              "      --disabled-bg-color: #DDD;\n",
              "  }\n",
              "\n",
              "  [theme=dark] .colab-df-quickchart {\n",
              "      --bg-color: #3B4455;\n",
              "      --fill-color: #D2E3FC;\n",
              "      --hover-bg-color: #434B5C;\n",
              "      --hover-fill-color: #FFFFFF;\n",
              "      --disabled-bg-color: #3B4455;\n",
              "      --disabled-fill-color: #666;\n",
              "  }\n",
              "\n",
              "  .colab-df-quickchart {\n",
              "    background-color: var(--bg-color);\n",
              "    border: none;\n",
              "    border-radius: 50%;\n",
              "    cursor: pointer;\n",
              "    display: none;\n",
              "    fill: var(--fill-color);\n",
              "    height: 32px;\n",
              "    padding: 0;\n",
              "    width: 32px;\n",
              "  }\n",
              "\n",
              "  .colab-df-quickchart:hover {\n",
              "    background-color: var(--hover-bg-color);\n",
              "    box-shadow: 0 1px 2px rgba(60, 64, 67, 0.3), 0 1px 3px 1px rgba(60, 64, 67, 0.15);\n",
              "    fill: var(--button-hover-fill-color);\n",
              "  }\n",
              "\n",
              "  .colab-df-quickchart-complete:disabled,\n",
              "  .colab-df-quickchart-complete:disabled:hover {\n",
              "    background-color: var(--disabled-bg-color);\n",
              "    fill: var(--disabled-fill-color);\n",
              "    box-shadow: none;\n",
              "  }\n",
              "\n",
              "  .colab-df-spinner {\n",
              "    border: 2px solid var(--fill-color);\n",
              "    border-color: transparent;\n",
              "    border-bottom-color: var(--fill-color);\n",
              "    animation:\n",
              "      spin 1s steps(1) infinite;\n",
              "  }\n",
              "\n",
              "  @keyframes spin {\n",
              "    0% {\n",
              "      border-color: transparent;\n",
              "      border-bottom-color: var(--fill-color);\n",
              "      border-left-color: var(--fill-color);\n",
              "    }\n",
              "    20% {\n",
              "      border-color: transparent;\n",
              "      border-left-color: var(--fill-color);\n",
              "      border-top-color: var(--fill-color);\n",
              "    }\n",
              "    30% {\n",
              "      border-color: transparent;\n",
              "      border-left-color: var(--fill-color);\n",
              "      border-top-color: var(--fill-color);\n",
              "      border-right-color: var(--fill-color);\n",
              "    }\n",
              "    40% {\n",
              "      border-color: transparent;\n",
              "      border-right-color: var(--fill-color);\n",
              "      border-top-color: var(--fill-color);\n",
              "    }\n",
              "    60% {\n",
              "      border-color: transparent;\n",
              "      border-right-color: var(--fill-color);\n",
              "    }\n",
              "    80% {\n",
              "      border-color: transparent;\n",
              "      border-right-color: var(--fill-color);\n",
              "      border-bottom-color: var(--fill-color);\n",
              "    }\n",
              "    90% {\n",
              "      border-color: transparent;\n",
              "      border-bottom-color: var(--fill-color);\n",
              "    }\n",
              "  }\n",
              "</style>\n",
              "\n",
              "  <script>\n",
              "    async function quickchart(key) {\n",
              "      const quickchartButtonEl =\n",
              "        document.querySelector('#' + key + ' button');\n",
              "      quickchartButtonEl.disabled = true;  // To prevent multiple clicks.\n",
              "      quickchartButtonEl.classList.add('colab-df-spinner');\n",
              "      try {\n",
              "        const charts = await google.colab.kernel.invokeFunction(\n",
              "            'suggestCharts', [key], {});\n",
              "      } catch (error) {\n",
              "        console.error('Error during call to suggestCharts:', error);\n",
              "      }\n",
              "      quickchartButtonEl.classList.remove('colab-df-spinner');\n",
              "      quickchartButtonEl.classList.add('colab-df-quickchart-complete');\n",
              "    }\n",
              "    (() => {\n",
              "      let quickchartButtonEl =\n",
              "        document.querySelector('#df-cb8f2ffc-5cd2-4ef1-89b6-cc7d483ff66d button');\n",
              "      quickchartButtonEl.style.display =\n",
              "        google.colab.kernel.accessAllowed ? 'block' : 'none';\n",
              "    })();\n",
              "  </script>\n",
              "</div>\n",
              "\n",
              "    </div>\n",
              "  </div>\n"
            ],
            "application/vnd.google.colaboratory.intrinsic+json": {
              "type": "dataframe",
              "variable_name": "cdf",
              "summary": "{\n  \"name\": \"cdf\",\n  \"rows\": 500,\n  \"fields\": [\n    {\n      \"column\": \"Unnamed: 0\",\n      \"properties\": {\n        \"dtype\": \"number\",\n        \"std\": 144,\n        \"min\": 0,\n        \"max\": 499,\n        \"num_unique_values\": 500,\n        \"samples\": [\n          361,\n          73,\n          374\n        ],\n        \"semantic_type\": \"\",\n        \"description\": \"\"\n      }\n    },\n    {\n      \"column\": \"ticker\",\n      \"properties\": {\n        \"dtype\": \"category\",\n        \"num_unique_values\": 5,\n        \"samples\": [\n          \"AAPL\",\n          \"GOOGL\",\n          \"AMZN\"\n        ],\n        \"semantic_type\": \"\",\n        \"description\": \"\"\n      }\n    },\n    {\n      \"column\": \"date\",\n      \"properties\": {\n        \"dtype\": \"object\",\n        \"num_unique_values\": 16,\n        \"samples\": [\n          \"22-09-2021\",\n          \"21-09-2021\",\n          \"17-09-2021\"\n        ],\n        \"semantic_type\": \"\",\n        \"description\": \"\"\n      }\n    },\n    {\n      \"column\": \"time\",\n      \"properties\": {\n        \"dtype\": \"object\",\n        \"num_unique_values\": 309,\n        \"samples\": [\n          \"01:35PM\",\n          \"03:08PM\",\n          \"09:34AM\"\n        ],\n        \"semantic_type\": \"\",\n        \"description\": \"\"\n      }\n    },\n    {\n      \"column\": \"headline\",\n      \"properties\": {\n        \"dtype\": \"string\",\n        \"num_unique_values\": 393,\n        \"samples\": [\n          \"How Facebook plans to earn peoples trust with its Novi digital wallet\",\n          \"Emmy Awards: It's 'Ted Lasso' vs 'Mare', 'Queen's Gambit' in streaming showdown\",\n          \"Fintechs Pose A Threat For Conventional Lenders - Read How\"\n        ],\n        \"semantic_type\": \"\",\n        \"description\": \"\"\n      }\n    },\n    {\n      \"column\": \"neg\",\n      \"properties\": {\n        \"dtype\": \"number\",\n        \"std\": 0.11179872796749658,\n        \"min\": 0.0,\n        \"max\": 0.519,\n        \"num_unique_values\": 76,\n        \"samples\": [\n          0.245,\n          0.136,\n          0.326\n        ],\n        \"semantic_type\": \"\",\n        \"description\": \"\"\n      }\n    },\n    {\n      \"column\": \"neu\",\n      \"properties\": {\n        \"dtype\": \"number\",\n        \"std\": 0.1710596040339873,\n        \"min\": 0.306,\n        \"max\": 1.0,\n        \"num_unique_values\": 152,\n        \"samples\": [\n          0.4,\n          0.567,\n          0.914\n        ],\n        \"semantic_type\": \"\",\n        \"description\": \"\"\n      }\n    },\n    {\n      \"column\": \"pos\",\n      \"properties\": {\n        \"dtype\": \"number\",\n        \"std\": 0.15728381213309345,\n        \"min\": 0.0,\n        \"max\": 0.694,\n        \"num_unique_values\": 108,\n        \"samples\": [\n          0.227,\n          0.394,\n          0.231\n        ],\n        \"semantic_type\": \"\",\n        \"description\": \"\"\n      }\n    },\n    {\n      \"column\": \"compound\",\n      \"properties\": {\n        \"dtype\": \"number\",\n        \"std\": 0.34610651088558675,\n        \"min\": -0.743,\n        \"max\": 0.9413,\n        \"num_unique_values\": 87,\n        \"samples\": [\n          0.0516,\n          0.7003,\n          -0.1531\n        ],\n        \"semantic_type\": \"\",\n        \"description\": \"\"\n      }\n    },\n    {\n      \"column\": \"Unnamed: 9\",\n      \"properties\": {\n        \"dtype\": \"number\",\n        \"std\": null,\n        \"min\": null,\n        \"max\": null,\n        \"num_unique_values\": 0,\n        \"samples\": [],\n        \"semantic_type\": \"\",\n        \"description\": \"\"\n      }\n    },\n    {\n      \"column\": \"Sentiment\",\n      \"properties\": {\n        \"dtype\": \"category\",\n        \"num_unique_values\": 3,\n        \"samples\": [],\n        \"semantic_type\": \"\",\n        \"description\": \"\"\n      }\n    }\n  ]\n}"
            }
          },
          "metadata": {},
          "execution_count": 9
        }
      ]
    },
    {
      "cell_type": "code",
      "source": [
        "# Downloading NLTK resources (stopwords and punkt tokenizer)\n",
        "\n",
        "nltk.download('stopwords')\n",
        "nltk.download('punkt')\n",
        "nltk.download('wordnet')"
      ],
      "metadata": {
        "colab": {
          "base_uri": "https://localhost:8080/"
        },
        "id": "qDliLJozA6Jd",
        "outputId": "8d57a005-ec23-416e-a530-f9267a6e7fc9"
      },
      "execution_count": 10,
      "outputs": [
        {
          "output_type": "stream",
          "name": "stderr",
          "text": [
            "[nltk_data] Downloading package stopwords to /root/nltk_data...\n",
            "[nltk_data]   Unzipping corpora/stopwords.zip.\n",
            "[nltk_data] Downloading package punkt to /root/nltk_data...\n",
            "[nltk_data]   Unzipping tokenizers/punkt.zip.\n",
            "[nltk_data] Downloading package wordnet to /root/nltk_data...\n"
          ]
        },
        {
          "output_type": "execute_result",
          "data": {
            "text/plain": [
              "True"
            ]
          },
          "metadata": {},
          "execution_count": 10
        }
      ]
    },
    {
      "cell_type": "code",
      "source": [
        "# Tokenization\n",
        "\n",
        "def clean_text(text):\n",
        "    # Remove special characters, punctuation, and numbers\n",
        "    text = re.sub(r'[^a-zA-Z\\s]', '', text)\n",
        "\n",
        "    # Convert text to lowercase\n",
        "    text = text.lower()\n",
        "\n",
        "    # Tokenization\n",
        "    tokens = word_tokenize(text)\n",
        "\n",
        "    # Remove extra whitespaces\n",
        "    text = re.sub(' +', ' ', text)\n",
        "\n",
        "    # Remove stopwords\n",
        "    stop_words = set(stopwords.words('english'))\n",
        "    tokens = [token for token in tokens if token not in stop_words]\n",
        "\n",
        "    # Stemming\n",
        "    stemmer = PorterStemmer()\n",
        "    tokens = [stemmer.stem(token) for token in tokens]\n",
        "\n",
        "    # Reassemble the tokens into a single string\n",
        "    text = ' '.join(tokens)\n",
        "\n",
        "\n",
        "    return text\n",
        "\n",
        "cdf['Processed_headline'] = cdf['headline'].apply(clean_text)\n",
        "\n"
      ],
      "metadata": {
        "id": "EIUhBjiS7Cbp"
      },
      "execution_count": 11,
      "outputs": []
    },
    {
      "cell_type": "code",
      "source": [
        "# Vectorization\n",
        "\n",
        "# Create the TF-IDF vectorizer\n",
        "tfidf_vectorizer = TfidfVectorizer()\n",
        "\n",
        "# Fit and transform the documents\n",
        "X = tfidf_vectorizer.fit_transform(cdf['Processed_headline'])\n"
      ],
      "metadata": {
        "id": "i8acdru1CXuK"
      },
      "execution_count": 12,
      "outputs": []
    },
    {
      "cell_type": "code",
      "source": [
        "# Pritning  Vectorization Features\n",
        "\n",
        "feature_names = tfidf_vectorizer.get_feature_names_out()\n",
        "print(\"Feature Names:\", feature_names)"
      ],
      "metadata": {
        "colab": {
          "base_uri": "https://localhost:8080/"
        },
        "id": "BJ1Knd24EI8P",
        "outputId": "13e4879f-c1b7-4611-db0a-14294063eb73"
      },
      "execution_count": 13,
      "outputs": [
        {
          "output_type": "stream",
          "name": "stdout",
          "text": [
            "Feature Names: ['aapl' 'abort' 'abram' ... 'zack' 'zero' 'zuckerberg']\n"
          ]
        }
      ]
    },
    {
      "cell_type": "code",
      "source": [
        "# Assigning the 'Sentiment' column as the target variable y\n",
        "y=cdf['Sentiment']\n",
        "y"
      ],
      "metadata": {
        "colab": {
          "base_uri": "https://localhost:8080/"
        },
        "id": "kkANfEW2EThi",
        "outputId": "e504efb1-0cc8-4153-c9ca-948f8a8c5636"
      },
      "execution_count": 14,
      "outputs": [
        {
          "output_type": "execute_result",
          "data": {
            "text/plain": [
              "0      Positive\n",
              "1      Negative\n",
              "2      Negative\n",
              "3       Neutral\n",
              "4       Neutral\n",
              "         ...   \n",
              "495    Positive\n",
              "496     Neutral\n",
              "497    Positive\n",
              "498     Neutral\n",
              "499     Neutral\n",
              "Name: Sentiment, Length: 500, dtype: object"
            ]
          },
          "metadata": {},
          "execution_count": 14
        }
      ]
    },
    {
      "cell_type": "code",
      "source": [
        "# Get unique sentiments and their counts\n",
        "unique_sentiments = cdf['Sentiment'].value_counts()\n",
        "\n",
        "# Print unique sentiments and their counts\n",
        "print(\"Unique Sentiments:\")\n",
        "print(unique_sentiments)\n"
      ],
      "metadata": {
        "colab": {
          "base_uri": "https://localhost:8080/"
        },
        "id": "Z0K0r94cG7Hy",
        "outputId": "a59dc234-8f25-4600-9217-98992cb5cd92"
      },
      "execution_count": 15,
      "outputs": [
        {
          "output_type": "stream",
          "name": "stdout",
          "text": [
            "Unique Sentiments:\n",
            "Neutral     297\n",
            "Positive    111\n",
            "Negative     92\n",
            "Name: Sentiment, dtype: int64\n"
          ]
        }
      ]
    },
    {
      "cell_type": "code",
      "source": [
        "# Splitting the dataset into training and testing sets\n",
        "X_train, X_test, y_train, y_test = train_test_split(X, y, test_size=0.2, random_state=42)"
      ],
      "metadata": {
        "id": "DM1Fr7PKGjMa"
      },
      "execution_count": 16,
      "outputs": []
    },
    {
      "cell_type": "code",
      "source": [
        "# Using Random Forest Classifier Model\n",
        "model = RandomForestClassifier(n_estimators=150, class_weight='balanced',random_state=42)\n",
        "model.fit(X_train, y_train)\n"
      ],
      "metadata": {
        "colab": {
          "base_uri": "https://localhost:8080/",
          "height": 92
        },
        "id": "j5hjY2N0JhM5",
        "outputId": "9299125c-ec7f-4c04-afac-03429a6d7709"
      },
      "execution_count": 17,
      "outputs": [
        {
          "output_type": "execute_result",
          "data": {
            "text/plain": [
              "RandomForestClassifier(class_weight='balanced', n_estimators=150,\n",
              "                       random_state=42)"
            ],
            "text/html": [
              "<style>#sk-container-id-1 {color: black;background-color: white;}#sk-container-id-1 pre{padding: 0;}#sk-container-id-1 div.sk-toggleable {background-color: white;}#sk-container-id-1 label.sk-toggleable__label {cursor: pointer;display: block;width: 100%;margin-bottom: 0;padding: 0.3em;box-sizing: border-box;text-align: center;}#sk-container-id-1 label.sk-toggleable__label-arrow:before {content: \"▸\";float: left;margin-right: 0.25em;color: #696969;}#sk-container-id-1 label.sk-toggleable__label-arrow:hover:before {color: black;}#sk-container-id-1 div.sk-estimator:hover label.sk-toggleable__label-arrow:before {color: black;}#sk-container-id-1 div.sk-toggleable__content {max-height: 0;max-width: 0;overflow: hidden;text-align: left;background-color: #f0f8ff;}#sk-container-id-1 div.sk-toggleable__content pre {margin: 0.2em;color: black;border-radius: 0.25em;background-color: #f0f8ff;}#sk-container-id-1 input.sk-toggleable__control:checked~div.sk-toggleable__content {max-height: 200px;max-width: 100%;overflow: auto;}#sk-container-id-1 input.sk-toggleable__control:checked~label.sk-toggleable__label-arrow:before {content: \"▾\";}#sk-container-id-1 div.sk-estimator input.sk-toggleable__control:checked~label.sk-toggleable__label {background-color: #d4ebff;}#sk-container-id-1 div.sk-label input.sk-toggleable__control:checked~label.sk-toggleable__label {background-color: #d4ebff;}#sk-container-id-1 input.sk-hidden--visually {border: 0;clip: rect(1px 1px 1px 1px);clip: rect(1px, 1px, 1px, 1px);height: 1px;margin: -1px;overflow: hidden;padding: 0;position: absolute;width: 1px;}#sk-container-id-1 div.sk-estimator {font-family: monospace;background-color: #f0f8ff;border: 1px dotted black;border-radius: 0.25em;box-sizing: border-box;margin-bottom: 0.5em;}#sk-container-id-1 div.sk-estimator:hover {background-color: #d4ebff;}#sk-container-id-1 div.sk-parallel-item::after {content: \"\";width: 100%;border-bottom: 1px solid gray;flex-grow: 1;}#sk-container-id-1 div.sk-label:hover label.sk-toggleable__label {background-color: #d4ebff;}#sk-container-id-1 div.sk-serial::before {content: \"\";position: absolute;border-left: 1px solid gray;box-sizing: border-box;top: 0;bottom: 0;left: 50%;z-index: 0;}#sk-container-id-1 div.sk-serial {display: flex;flex-direction: column;align-items: center;background-color: white;padding-right: 0.2em;padding-left: 0.2em;position: relative;}#sk-container-id-1 div.sk-item {position: relative;z-index: 1;}#sk-container-id-1 div.sk-parallel {display: flex;align-items: stretch;justify-content: center;background-color: white;position: relative;}#sk-container-id-1 div.sk-item::before, #sk-container-id-1 div.sk-parallel-item::before {content: \"\";position: absolute;border-left: 1px solid gray;box-sizing: border-box;top: 0;bottom: 0;left: 50%;z-index: -1;}#sk-container-id-1 div.sk-parallel-item {display: flex;flex-direction: column;z-index: 1;position: relative;background-color: white;}#sk-container-id-1 div.sk-parallel-item:first-child::after {align-self: flex-end;width: 50%;}#sk-container-id-1 div.sk-parallel-item:last-child::after {align-self: flex-start;width: 50%;}#sk-container-id-1 div.sk-parallel-item:only-child::after {width: 0;}#sk-container-id-1 div.sk-dashed-wrapped {border: 1px dashed gray;margin: 0 0.4em 0.5em 0.4em;box-sizing: border-box;padding-bottom: 0.4em;background-color: white;}#sk-container-id-1 div.sk-label label {font-family: monospace;font-weight: bold;display: inline-block;line-height: 1.2em;}#sk-container-id-1 div.sk-label-container {text-align: center;}#sk-container-id-1 div.sk-container {/* jupyter's `normalize.less` sets `[hidden] { display: none; }` but bootstrap.min.css set `[hidden] { display: none !important; }` so we also need the `!important` here to be able to override the default hidden behavior on the sphinx rendered scikit-learn.org. See: https://github.com/scikit-learn/scikit-learn/issues/21755 */display: inline-block !important;position: relative;}#sk-container-id-1 div.sk-text-repr-fallback {display: none;}</style><div id=\"sk-container-id-1\" class=\"sk-top-container\"><div class=\"sk-text-repr-fallback\"><pre>RandomForestClassifier(class_weight=&#x27;balanced&#x27;, n_estimators=150,\n",
              "                       random_state=42)</pre><b>In a Jupyter environment, please rerun this cell to show the HTML representation or trust the notebook. <br />On GitHub, the HTML representation is unable to render, please try loading this page with nbviewer.org.</b></div><div class=\"sk-container\" hidden><div class=\"sk-item\"><div class=\"sk-estimator sk-toggleable\"><input class=\"sk-toggleable__control sk-hidden--visually\" id=\"sk-estimator-id-1\" type=\"checkbox\" checked><label for=\"sk-estimator-id-1\" class=\"sk-toggleable__label sk-toggleable__label-arrow\">RandomForestClassifier</label><div class=\"sk-toggleable__content\"><pre>RandomForestClassifier(class_weight=&#x27;balanced&#x27;, n_estimators=150,\n",
              "                       random_state=42)</pre></div></div></div></div></div>"
            ]
          },
          "metadata": {},
          "execution_count": 17
        }
      ]
    },
    {
      "cell_type": "code",
      "source": [
        "#  Prediction using testing dataset\n",
        "y_pred = model.predict(X_test)"
      ],
      "metadata": {
        "id": "nKb6I3iBJh84"
      },
      "execution_count": 18,
      "outputs": []
    },
    {
      "cell_type": "code",
      "source": [
        "# Comparing predicted values of the model when we pass testing values with the actual\n",
        "# testing y values\n",
        "print('Actual Sentiment Values: \\n',list(y_test[20:50]))\n",
        "print('Model Predicted Values using X_test: \\n' ,y_pred[20:50])"
      ],
      "metadata": {
        "colab": {
          "base_uri": "https://localhost:8080/"
        },
        "id": "fX4fUq1gJxe4",
        "outputId": "6edd920a-8a47-4de2-d06d-df6c468a2aad"
      },
      "execution_count": 19,
      "outputs": [
        {
          "output_type": "stream",
          "name": "stdout",
          "text": [
            "Actual Sentiment Values: \n",
            " ['Neutral', 'Negative', 'Positive', 'Neutral', 'Positive', 'Neutral', 'Positive', 'Negative', 'Neutral', 'Neutral', 'Neutral', 'Neutral', 'Neutral', 'Negative', 'Negative', 'Negative', 'Neutral', 'Neutral', 'Neutral', 'Negative', 'Neutral', 'Neutral', 'Positive', 'Negative', 'Neutral', 'Neutral', 'Positive', 'Neutral', 'Neutral', 'Positive']\n",
            "Model Predicted Values using X_test: \n",
            " ['Neutral' 'Negative' 'Positive' 'Neutral' 'Positive' 'Neutral' 'Neutral'\n",
            " 'Neutral' 'Neutral' 'Neutral' 'Neutral' 'Neutral' 'Neutral' 'Neutral'\n",
            " 'Negative' 'Negative' 'Neutral' 'Neutral' 'Neutral' 'Neutral' 'Neutral'\n",
            " 'Neutral' 'Neutral' 'Neutral' 'Neutral' 'Neutral' 'Neutral' 'Neutral'\n",
            " 'Neutral' 'Positive']\n"
          ]
        }
      ]
    },
    {
      "cell_type": "code",
      "source": [
        "# Making Model Prediction on new Unseen Sentense\n",
        "\n",
        "new_sentence = \"Texas Startups Mount Fight Against Abortion BanWithout Big Tech\"\n",
        "processed_sentence = clean_text(new_sentence) # processing new_sentense using our function clean_text\n",
        "vectorized_sentence = tfidf_vectorizer.transform([processed_sentence]) # vectorizing\n",
        "\n",
        "# Make predictions\n",
        "prediction = model.predict(vectorized_sentence)\n",
        "\n",
        "print(\"Processed Sentence:\", processed_sentence)\n",
        "print(\"Predicted Class:\", prediction)"
      ],
      "metadata": {
        "colab": {
          "base_uri": "https://localhost:8080/"
        },
        "id": "P31GBatBKPuX",
        "outputId": "57480bd8-7744-4bc6-a1aa-ea6341687631"
      },
      "execution_count": 20,
      "outputs": [
        {
          "output_type": "stream",
          "name": "stdout",
          "text": [
            "Processed Sentence: texa startup mount fight abort banwithout big tech\n",
            "Predicted Class: ['Negative']\n"
          ]
        }
      ]
    },
    {
      "cell_type": "code",
      "source": [
        "# Define class names\n",
        "class_names = [\"Positive\", \"Neutral\", \"Negative\"]  # Replace with your actual class names\n",
        "\n",
        "# Drawing Confusion matrix for checking our model accuracy\n",
        "conf_matrix = confusion_matrix(y_test, y_pred)\n",
        "\n",
        "# Display the Confusion Matrix with class names\n",
        "print(\"Confusion Matrix:\")\n",
        "print(pd.DataFrame(conf_matrix, index=class_names, columns=class_names))\n"
      ],
      "metadata": {
        "colab": {
          "base_uri": "https://localhost:8080/"
        },
        "id": "1ITGfXpSSkTj",
        "outputId": "c50b44e3-4cc2-44d6-b149-e3351c9f4117"
      },
      "execution_count": 21,
      "outputs": [
        {
          "output_type": "stream",
          "name": "stdout",
          "text": [
            "Confusion Matrix:\n",
            "          Positive  Neutral  Negative\n",
            "Positive        10       12         1\n",
            "Neutral          1       54         0\n",
            "Negative         0        9        13\n"
          ]
        }
      ]
    },
    {
      "cell_type": "code",
      "source": [
        "# Calculating Overall Precision and Recall\n",
        "\n",
        "TP = conf_matrix[1, 1] # True Positives\n",
        "FP = conf_matrix[0, 1] # False Positives\n",
        "FN = conf_matrix[1, 0] # False Negatives\n",
        "\n",
        "# Calculate Precision and Recall\n",
        "precision = TP / (TP + FP)\n",
        "recall = TP / (TP + FN)\n",
        "\n",
        "print(\"Precision:\", precision)\n",
        "print(\"Recall:\", recall)\n"
      ],
      "metadata": {
        "colab": {
          "base_uri": "https://localhost:8080/"
        },
        "id": "x58AUw0oUZnS",
        "outputId": "bbf13bb1-c66c-4666-871f-2205f31e4585"
      },
      "execution_count": 22,
      "outputs": [
        {
          "output_type": "stream",
          "name": "stdout",
          "text": [
            "Precision: 0.8181818181818182\n",
            "Recall: 0.9818181818181818\n"
          ]
        }
      ]
    },
    {
      "cell_type": "code",
      "source": [
        "# Calculating Precision and Recall for each class i.e Positve,Negative and Neutral\n",
        "\n",
        "from sklearn.metrics import precision_score, recall_score\n",
        "\n",
        "# Calculate precision and recall for each class\n",
        "precision_positive = precision_score(y_test, y_pred, average=None, labels=['Positive'])\n",
        "recall_positive = recall_score(y_test, y_pred, average=None, labels=['Positive'])\n",
        "\n",
        "precision_neutral = precision_score(y_test, y_pred, average=None, labels=['Neutral'])\n",
        "recall_neutral = recall_score(y_test, y_pred, average=None, labels=['Neutral'])\n",
        "\n",
        "precision_negative = precision_score(y_test, y_pred, average=None, labels=['Negative'])\n",
        "recall_negative = recall_score(y_test, y_pred, average=None, labels=['Negative'])\n",
        "\n",
        "# Print precision and recall for each class\n",
        "print(\"Positive Class:\")\n",
        "print(f\"Precision: {precision_positive[0]:.4f}\")\n",
        "print(f\"Recall: {recall_positive[0]:.4f}\\n\")\n",
        "\n",
        "print(\"Neutral Class:\")\n",
        "print(f\"Precision: {precision_neutral[0]:.4f}\")\n",
        "print(f\"Recall: {recall_neutral[0]:.4f}\\n\")\n",
        "\n",
        "print(\"Negative Class:\")\n",
        "print(f\"Precision: {precision_negative[0]:.4f}\")\n",
        "print(f\"Recall: {recall_negative[0]:.4f}\")\n",
        "\n"
      ],
      "metadata": {
        "colab": {
          "base_uri": "https://localhost:8080/"
        },
        "id": "lv8IrAPxWoH5",
        "outputId": "5df4a5c8-c2ff-45bf-d894-fc795dacae67"
      },
      "execution_count": 23,
      "outputs": [
        {
          "output_type": "stream",
          "name": "stdout",
          "text": [
            "Positive Class:\n",
            "Precision: 0.9286\n",
            "Recall: 0.5909\n",
            "\n",
            "Neutral Class:\n",
            "Precision: 0.7200\n",
            "Recall: 0.9818\n",
            "\n",
            "Negative Class:\n",
            "Precision: 0.9091\n",
            "Recall: 0.4348\n"
          ]
        }
      ]
    },
    {
      "cell_type": "code",
      "source": [
        "from sklearn.metrics import f1_score\n",
        "\n",
        "# Assuming y_true and y_pred are your true and predicted labels, respectively\n",
        "f1 = f1_score(y_test, y_pred, average='weighted')\n",
        "\n",
        "print(\"F1 Score:\", f1)\n"
      ],
      "metadata": {
        "colab": {
          "base_uri": "https://localhost:8080/"
        },
        "id": "diaX3dMEYjkZ",
        "outputId": "24564a43-cef4-4c11-d66b-70f2e03dd457"
      },
      "execution_count": 24,
      "outputs": [
        {
          "output_type": "stream",
          "name": "stdout",
          "text": [
            "F1 Score: 0.7511060834590246\n"
          ]
        }
      ]
    },
    {
      "cell_type": "code",
      "source": [
        "# Using cross-validation as well for checking our model accuracy\n",
        "\n",
        "# Use StratifiedKFold for cross-validation\n",
        "cv = StratifiedKFold(n_splits=5, shuffle=True, random_state=42)\n",
        "\n",
        "# Perform cross-validation and get accuracy scores\n",
        "scores = cross_val_score(model, X, y, cv=cv, scoring='accuracy')\n",
        "\n",
        "# Display the accuracy scores\n",
        "print(\"Cross-Validation Accuracy Scores:\", scores)"
      ],
      "metadata": {
        "colab": {
          "base_uri": "https://localhost:8080/"
        },
        "id": "UF8faregXFX5",
        "outputId": "1637e62c-3823-44ac-b766-b7315fa7ca53"
      },
      "execution_count": 25,
      "outputs": [
        {
          "output_type": "stream",
          "name": "stdout",
          "text": [
            "Cross-Validation Accuracy Scores: [0.77 0.78 0.78 0.84 0.81]\n"
          ]
        }
      ]
    },
    {
      "cell_type": "code",
      "source": [
        "# Mean Accuracy score\n",
        "print(\"Mean Accuracy:\", np.mean(scores))\n"
      ],
      "metadata": {
        "colab": {
          "base_uri": "https://localhost:8080/"
        },
        "id": "B-43-T_iXa06",
        "outputId": "98ef457e-5555-4ed3-b21b-d8677edd4931"
      },
      "execution_count": 26,
      "outputs": [
        {
          "output_type": "stream",
          "name": "stdout",
          "text": [
            "Mean Accuracy: 0.796\n"
          ]
        }
      ]
    },
    {
      "cell_type": "code",
      "source": [
        "# Final testing using accuracy score\n",
        "accuracy = accuracy_score(y_test, y_pred)\n",
        "print(accuracy)"
      ],
      "metadata": {
        "colab": {
          "base_uri": "https://localhost:8080/"
        },
        "id": "MYRQBRtBXfgg",
        "outputId": "40f9ded8-a9c7-46fb-f9b7-9f6218d0c8cc"
      },
      "execution_count": 27,
      "outputs": [
        {
          "output_type": "stream",
          "name": "stdout",
          "text": [
            "0.77\n"
          ]
        }
      ]
    },
    {
      "cell_type": "markdown",
      "source": [
        "\n",
        "## With our current dataset, achieving an accuracy of 0.77 is commendable. However, there is room for improvement, which can be achieved by incorporating more data and utilizing more advanced sentiment analysis algorithms."
      ],
      "metadata": {
        "id": "ir8NgS6idYI2"
      }
    }
  ]
}